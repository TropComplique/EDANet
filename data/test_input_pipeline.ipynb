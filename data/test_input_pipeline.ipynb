{
 "cells": [
  {
   "cell_type": "code",
   "execution_count": null,
   "metadata": {},
   "outputs": [],
   "source": [
    "%load_ext autoreload\n",
    "%autoreload 2"
   ]
  },
  {
   "cell_type": "code",
   "execution_count": null,
   "metadata": {},
   "outputs": [],
   "source": [
    "import tensorflow as tf\n",
    "import numpy as np\n",
    "import os\n",
    "from PIL import Image\n",
    "import time\n",
    "from tqdm import tqdm\n",
    "\n",
    "import sys\n",
    "sys.path.append('..')\n",
    "from input_pipeline import Pipeline"
   ]
  },
  {
   "cell_type": "markdown",
   "metadata": {},
   "source": [
    "# Build a graph"
   ]
  },
  {
   "cell_type": "code",
   "execution_count": null,
   "metadata": {
    "scrolled": false
   },
   "outputs": [],
   "source": [
    "tf.reset_default_graph()\n",
    "\n",
    "dataset_path = '/mnt/datasets/dan/moda/edanet/train/'\n",
    "filenames = os.listdir(dataset_path)\n",
    "filenames = [n for n in filenames if n.endswith('.tfrecords')]\n",
    "filenames = [os.path.join(dataset_path, n) for n in sorted(filenames)]\n",
    "\n",
    "params = {\n",
    "    'batch_size': 16, 'num_labels': 13,\n",
    "    'image_height': 256, 'image_width': 256\n",
    "}\n",
    "\n",
    "with tf.device('/cpu:0'):\n",
    "    pipeline = Pipeline(filenames, is_training=True, params=params)\n",
    "    dataset = pipeline.dataset\n",
    "    iterator = tf.data.Iterator.from_structure(dataset.output_types, dataset.output_shapes)\n",
    "    init = iterator.make_initializer(dataset)\n",
    "    features, labels = iterator.get_next()"
   ]
  },
  {
   "cell_type": "markdown",
   "metadata": {},
   "source": [
    "# Show an image"
   ]
  },
  {
   "cell_type": "code",
   "execution_count": null,
   "metadata": {},
   "outputs": [],
   "source": [
    "color_by_label = {j: np.random.randint(0, 255, size=3, dtype='uint8') for j in range(13)}\n",
    "\n",
    "def get_color_mask(sparse_mask):\n",
    "    masks = []\n",
    "    for j in range(13):\n",
    "        m = (sparse_mask == (j + 1)).astype('uint8')\n",
    "        masks.append(np.expand_dims(m, 2) * color_by_label[j])\n",
    "        \n",
    "    return np.stack(masks).max(0)"
   ]
  },
  {
   "cell_type": "code",
   "execution_count": null,
   "metadata": {
    "scrolled": false
   },
   "outputs": [],
   "source": [
    "with tf.Session() as sess:\n",
    "    sess.run(init)\n",
    "    output_images, output_masks = sess.run([features, labels])"
   ]
  },
  {
   "cell_type": "code",
   "execution_count": null,
   "metadata": {
    "scrolled": false
   },
   "outputs": [],
   "source": [
    "i = 1\n",
    "image = (255.0*output_images[i]).astype('uint8')\n",
    "Image.fromarray(image)"
   ]
  },
  {
   "cell_type": "markdown",
   "metadata": {},
   "source": [
    "# Show masks"
   ]
  },
  {
   "cell_type": "code",
   "execution_count": null,
   "metadata": {},
   "outputs": [],
   "source": [
    "t = Image.fromarray(image)\n",
    "t.putalpha(255)\n",
    "\n",
    "mask = get_color_mask(output_masks[i])\n",
    "m = Image.fromarray(mask)\n",
    "m.putalpha(Image.fromarray(150*(mask > 0).any(2).astype('uint8')))\n",
    "t.alpha_composite(m)\n",
    "t"
   ]
  },
  {
   "cell_type": "markdown",
   "metadata": {},
   "source": [
    "# Measure speed"
   ]
  },
  {
   "cell_type": "code",
   "execution_count": null,
   "metadata": {},
   "outputs": [],
   "source": [
    "times = []\n",
    "with tf.Session() as sess:\n",
    "    sess.run(init)\n",
    "    for _ in range(105):\n",
    "        start = time.perf_counter()\n",
    "        output = sess.run([features, labels])\n",
    "        times.append(time.perf_counter() - start)\n",
    "\n",
    "times = np.array(times[5:])\n",
    "print(times.mean(), times.std())"
   ]
  },
  {
   "cell_type": "markdown",
   "metadata": {},
   "source": [
    "# Get class weights"
   ]
  },
  {
   "cell_type": "code",
   "execution_count": null,
   "metadata": {},
   "outputs": [],
   "source": [
    "tf.reset_default_graph()\n",
    "\n",
    "\n",
    "dataset_path = '/mnt/datasets/dan/moda/edanet/train/'\n",
    "filenames = os.listdir(dataset_path)\n",
    "filenames = [n for n in filenames if n.endswith('.tfrecords')]\n",
    "filenames = [os.path.join(dataset_path, n) for n in sorted(filenames)]\n",
    "\n",
    "\n",
    "pipeline = Pipeline(filenames, is_training=False, params={'num_labels': 13})\n",
    "dataset = pipeline.dataset\n",
    "iterator = tf.data.Iterator.from_structure(dataset.output_types, dataset.output_shapes)\n",
    "init = iterator.make_initializer(dataset)\n",
    "_, labels = iterator.get_next()"
   ]
  },
  {
   "cell_type": "code",
   "execution_count": null,
   "metadata": {},
   "outputs": [],
   "source": [
    "result = []\n",
    "train_dataset_size = 42243\n",
    "\n",
    "with tf.Session() as sess:\n",
    "    sess.run(init)\n",
    "    for _ in tqdm(range(train_dataset_size)):\n",
    "        output = sess.run(labels)[0]\n",
    "        h, w = output.shape\n",
    "        label_count = np.bincount(output.reshape(-1), minlength=13 + 1)\n",
    "        result.append((label_count, w, h))"
   ]
  },
  {
   "cell_type": "code",
   "execution_count": null,
   "metadata": {},
   "outputs": [],
   "source": [
    "total_label_count = np.stack([x[0] for x in result], axis=0).sum(0)\n",
    "total_area = sum(x[1] * x[2] for x in result)"
   ]
  },
  {
   "cell_type": "code",
   "execution_count": null,
   "metadata": {},
   "outputs": [],
   "source": [
    "probability_of_label = total_label_count/total_area\n",
    "# it has shape [num_labels + 1]"
   ]
  },
  {
   "cell_type": "code",
   "execution_count": null,
   "metadata": {},
   "outputs": [],
   "source": [
    "k = 1.12\n",
    "weights = 1.0/np.log(probability_of_label + k)\n",
    "print(weights)"
   ]
  },
  {
   "cell_type": "code",
   "execution_count": null,
   "metadata": {},
   "outputs": [],
   "source": [
    "np.save('class_weights.npy', weights.astype('float32'))"
   ]
  }
 ],
 "metadata": {
  "kernelspec": {
   "display_name": "Python 3",
   "language": "python",
   "name": "python3"
  },
  "language_info": {
   "codemirror_mode": {
    "name": "ipython",
    "version": 3
   },
   "file_extension": ".py",
   "mimetype": "text/x-python",
   "name": "python",
   "nbconvert_exporter": "python",
   "pygments_lexer": "ipython3",
   "version": "3.6.3"
  }
 },
 "nbformat": 4,
 "nbformat_minor": 2
}
