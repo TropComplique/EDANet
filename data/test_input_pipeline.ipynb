{
 "cells": [
  {
   "cell_type": "code",
   "execution_count": 1,
   "metadata": {},
   "outputs": [],
   "source": [
    "%load_ext autoreload\n",
    "%autoreload 2"
   ]
  },
  {
   "cell_type": "code",
   "execution_count": 3,
   "metadata": {},
   "outputs": [
    {
     "ename": "ModuleNotFoundError",
     "evalue": "No module named 'detector'",
     "output_type": "error",
     "traceback": [
      "\u001b[0;31m---------------------------------------------------------------------------\u001b[0m",
      "\u001b[0;31mModuleNotFoundError\u001b[0m                       Traceback (most recent call last)",
      "\u001b[0;32m<ipython-input-3-6ddbe84b084c>\u001b[0m in \u001b[0;36m<module>\u001b[0;34m()\u001b[0m\n\u001b[1;32m     12\u001b[0m \u001b[0;32mimport\u001b[0m \u001b[0msys\u001b[0m\u001b[0;34m\u001b[0m\u001b[0m\n\u001b[1;32m     13\u001b[0m \u001b[0msys\u001b[0m\u001b[0;34m.\u001b[0m\u001b[0mpath\u001b[0m\u001b[0;34m.\u001b[0m\u001b[0mappend\u001b[0m\u001b[0;34m(\u001b[0m\u001b[0;34m'..'\u001b[0m\u001b[0;34m)\u001b[0m\u001b[0;34m\u001b[0m\u001b[0m\n\u001b[0;32m---> 14\u001b[0;31m \u001b[0;32mfrom\u001b[0m \u001b[0minput_pipeline\u001b[0m \u001b[0;32mimport\u001b[0m \u001b[0mPipeline\u001b[0m\u001b[0;34m\u001b[0m\u001b[0m\n\u001b[0m",
      "\u001b[0;32m~/work/EDANet/input_pipeline/__init__.py\u001b[0m in \u001b[0;36m<module>\u001b[0;34m()\u001b[0m\n\u001b[0;32m----> 1\u001b[0;31m \u001b[0;32mfrom\u001b[0m \u001b[0;34m.\u001b[0m\u001b[0mpipeline\u001b[0m \u001b[0;32mimport\u001b[0m \u001b[0mPipeline\u001b[0m\u001b[0;34m\u001b[0m\u001b[0m\n\u001b[0m",
      "\u001b[0;32m~/work/EDANet/input_pipeline/pipeline.py\u001b[0m in \u001b[0;36m<module>\u001b[0;34m()\u001b[0m\n\u001b[1;32m      1\u001b[0m \u001b[0;32mimport\u001b[0m \u001b[0mtensorflow\u001b[0m \u001b[0;32mas\u001b[0m \u001b[0mtf\u001b[0m\u001b[0;34m\u001b[0m\u001b[0m\n\u001b[0;32m----> 2\u001b[0;31m \u001b[0;32mfrom\u001b[0m \u001b[0mdetector\u001b[0m\u001b[0;34m.\u001b[0m\u001b[0mconstants\u001b[0m \u001b[0;32mimport\u001b[0m \u001b[0mSHUFFLE_BUFFER_SIZE\u001b[0m\u001b[0;34m,\u001b[0m \u001b[0mNUM_PARALLEL_CALLS\u001b[0m\u001b[0;34m,\u001b[0m \u001b[0mRESIZE_METHOD\u001b[0m\u001b[0;34m\u001b[0m\u001b[0m\n\u001b[0m\u001b[1;32m      3\u001b[0m \u001b[0;32mfrom\u001b[0m \u001b[0;34m.\u001b[0m\u001b[0mrandom_crop\u001b[0m \u001b[0;32mimport\u001b[0m \u001b[0mrandom_crop\u001b[0m\u001b[0;34m\u001b[0m\u001b[0m\n\u001b[1;32m      4\u001b[0m \u001b[0;32mfrom\u001b[0m \u001b[0;34m.\u001b[0m\u001b[0mrandom_rotation\u001b[0m \u001b[0;32mimport\u001b[0m \u001b[0mrandom_rotation\u001b[0m\u001b[0;34m\u001b[0m\u001b[0m\n\u001b[1;32m      5\u001b[0m \u001b[0;32mfrom\u001b[0m \u001b[0;34m.\u001b[0m\u001b[0mcolor_augmentations\u001b[0m \u001b[0;32mimport\u001b[0m \u001b[0mrandom_color_manipulations\u001b[0m\u001b[0;34m,\u001b[0m \u001b[0mrandom_pixel_value_scale\u001b[0m\u001b[0;34m\u001b[0m\u001b[0m\n",
      "\u001b[0;31mModuleNotFoundError\u001b[0m: No module named 'detector'"
     ]
    }
   ],
   "source": [
    "import tensorflow as tf\n",
    "import numpy as np\n",
    "from PIL import Image\n",
    "import cv2\n",
    "import math\n",
    "import time\n",
    "\n",
    "import matplotlib.pyplot as plt\n",
    "from matplotlib.colors import ListedColormap\n",
    "%matplotlib inline\n",
    "\n",
    "import sys\n",
    "sys.path.append('..')\n",
    "from input_pipeline import Pipeline"
   ]
  },
  {
   "cell_type": "markdown",
   "metadata": {},
   "source": [
    "# Build a graph"
   ]
  },
  {
   "cell_type": "code",
   "execution_count": null,
   "metadata": {
    "scrolled": false
   },
   "outputs": [],
   "source": [
    "tf.reset_default_graph()\n",
    "\n",
    "files = [\n",
    "    '/home/dan/datasets/COCO/multiposenet/train/shard-0010.tfrecords',\n",
    "    '/home/dan/datasets/COCO/multiposenet/train/shard-0020.tfrecords',\n",
    "    '/home/dan/datasets/COCO/multiposenet/train/shard-0030.tfrecords',\n",
    "]\n",
    "params = {\n",
    "    'batch_size': 16, 'image_height': 512, 'image_width': 512, 'min_dimension': 512\n",
    "}\n",
    "\n",
    "with tf.device('/cpu:0'):\n",
    "    pipeline = KeypointPipeline(files, is_training=True, params=params)\n",
    "    dataset = pipeline.dataset\n",
    "    iterator = tf.data.Iterator.from_structure(dataset.output_types, dataset.output_shapes)\n",
    "    init = iterator.make_initializer(dataset)\n",
    "    features, labels = iterator.get_next()\n",
    "    features.update(labels)"
   ]
  },
  {
   "cell_type": "markdown",
   "metadata": {},
   "source": [
    "# Show an image"
   ]
  },
  {
   "cell_type": "code",
   "execution_count": null,
   "metadata": {},
   "outputs": [],
   "source": [
    "def plot_maps(image, heatmaps):\n",
    "\n",
    "    h, w, _ = image.shape\n",
    "    _, axes = plt.subplots(nrows=2, ncols=3, figsize=(int(w*3/50), int(h*2/50)))\n",
    "\n",
    "    cmap = plt.cm.get_cmap('autumn')\n",
    "    new_cmap = cmap(np.arange(cmap.N))\n",
    "    new_cmap[:, -1] = np.sqrt(np.linspace(0, 1, cmap.N))  # set alpha\n",
    "    cmap = ListedColormap(new_cmap)  # create new colormap\n",
    "\n",
    "    for ax in axes.reshape(-1):\n",
    "        ax.imshow(image)\n",
    "        ax.axis('off')\n",
    "\n",
    "    # ROW 1\n",
    "\n",
    "    axes[0, 0].imshow(heatmaps[:, :, 0], cmap=cmap)\n",
    "    axes[0, 0].set_title('noses')\n",
    "\n",
    "    axes[0, 1].imshow(heatmaps[:, :, 11], cmap=cmap)\n",
    "    axes[0, 1].set_title('left hips')\n",
    "\n",
    "    axes[0, 2].imshow(heatmaps[:, :, 8], cmap=cmap)\n",
    "    axes[0, 2].set_title('right elbows')\n",
    "    \n",
    "    # ROW 2\n",
    "\n",
    "    axes[1, 0].imshow(heatmaps[:, :, 9], cmap=cmap)\n",
    "    axes[1, 0].set_title('left wrists')\n",
    "\n",
    "    axes[1, 1].imshow(heatmaps[:, :, 2], cmap=cmap)\n",
    "    axes[1, 1].set_title('right eyes')\n",
    "\n",
    "    axes[1, 2].imshow(heatmaps[:, :, 16], cmap=cmap)\n",
    "    axes[1, 2].set_title('right ankles')"
   ]
  },
  {
   "cell_type": "code",
   "execution_count": null,
   "metadata": {
    "scrolled": false
   },
   "outputs": [],
   "source": [
    "with tf.Session() as sess:\n",
    "    sess.run(init)\n",
    "    output = sess.run(features)"
   ]
  },
  {
   "cell_type": "code",
   "execution_count": null,
   "metadata": {
    "scrolled": false
   },
   "outputs": [],
   "source": [
    "i = 0\n",
    "image = (255.0*output['images'][i]).astype('uint8')\n",
    "heatmaps = output['heatmaps'][i]\n",
    "segmentation_mask = output['segmentation_masks'][i]\n",
    "loss_mask = output['loss_masks'][i]\n",
    "\n",
    "h, w, _ = image.shape\n",
    "heatmaps = cv2.resize(heatmaps, (w, h))\n",
    "plot_maps(image, heatmaps)"
   ]
  },
  {
   "cell_type": "markdown",
   "metadata": {},
   "source": [
    "# Show masks"
   ]
  },
  {
   "cell_type": "code",
   "execution_count": null,
   "metadata": {},
   "outputs": [],
   "source": [
    "Image.fromarray(image)"
   ]
  },
  {
   "cell_type": "code",
   "execution_count": null,
   "metadata": {},
   "outputs": [],
   "source": [
    "t = Image.fromarray(image)\n",
    "t.putalpha(255)\n",
    "\n",
    "m = Image.fromarray(255*segmentation_mask.astype('uint8')).resize(t.size)\n",
    "m = m.convert('RGB')\n",
    "m.putalpha(170)\n",
    "\n",
    "t.alpha_composite(m)\n",
    "t"
   ]
  },
  {
   "cell_type": "code",
   "execution_count": null,
   "metadata": {},
   "outputs": [],
   "source": [
    "t = Image.fromarray(image)\n",
    "t.putalpha(255)\n",
    "\n",
    "m = Image.fromarray(255*loss_mask.astype('uint8')).resize(t.size)\n",
    "m = m.convert('RGB')\n",
    "m.putalpha(170)\n",
    "\n",
    "t.alpha_composite(m)\n",
    "t"
   ]
  },
  {
   "cell_type": "markdown",
   "metadata": {},
   "source": [
    "# Measure speed"
   ]
  },
  {
   "cell_type": "code",
   "execution_count": null,
   "metadata": {},
   "outputs": [],
   "source": [
    "times = []\n",
    "with tf.Session() as sess:\n",
    "    sess.run(init)\n",
    "    for _ in range(105):\n",
    "        start = time.perf_counter()\n",
    "        output = sess.run(features)\n",
    "        times.append(time.perf_counter() - start)\n",
    "\n",
    "times = np.array(times[5:])\n",
    "print(times.mean(), times.std())"
   ]
  }
 ],
 "metadata": {
  "kernelspec": {
   "display_name": "Python 3",
   "language": "python",
   "name": "python3"
  },
  "language_info": {
   "codemirror_mode": {
    "name": "ipython",
    "version": 3
   },
   "file_extension": ".py",
   "mimetype": "text/x-python",
   "name": "python",
   "nbconvert_exporter": "python",
   "pygments_lexer": "ipython3",
   "version": "3.6.3"
  }
 },
 "nbformat": 4,
 "nbformat_minor": 2
}
