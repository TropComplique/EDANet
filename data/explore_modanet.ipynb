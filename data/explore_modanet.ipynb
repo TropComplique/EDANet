{
 "cells": [
  {
   "cell_type": "code",
   "execution_count": null,
   "metadata": {},
   "outputs": [],
   "source": [
    "import os\n",
    "import pandas as pd\n",
    "import cv2\n",
    "import numpy as np\n",
    "import matplotlib.pyplot as plt\n",
    "%matplotlib inline\n",
    "\n",
    "# you can get this from here:\n",
    "# https://github.com/cocodataset/cocoapi\n",
    "import sys\n",
    "sys.path.append('/home/dan/work/cocoapi/PythonAPI/')\n",
    "from pycocotools.coco import COCO"
   ]
  },
  {
   "cell_type": "code",
   "execution_count": null,
   "metadata": {},
   "outputs": [],
   "source": [
    "ANNOTATIONS_FILE = '/mnt/datasets/dan/moda/annotations/modanet2018_instances_train.json'\n",
    "IMAGES_DIR = '/mnt/datasets/dan/moda/images/train/'\n",
    "DOWNLOAD_METADATA = 'train_metadata.csv'"
   ]
  },
  {
   "cell_type": "code",
   "execution_count": null,
   "metadata": {
    "scrolled": true
   },
   "outputs": [],
   "source": [
    "coco = COCO(ANNOTATIONS_FILE)"
   ]
  },
  {
   "cell_type": "markdown",
   "metadata": {},
   "source": [
    "# Get categories"
   ]
  },
  {
   "cell_type": "code",
   "execution_count": null,
   "metadata": {},
   "outputs": [],
   "source": [
    "categories = coco.loadCats(coco.getCatIds())\n",
    "names = [cat['name'] for cat in categories]\n",
    "print('COCO categories: \\n{}'.format(' '.join(names)))\n",
    "print('\\nnumber of labels:', len(names))"
   ]
  },
  {
   "cell_type": "markdown",
   "metadata": {},
   "source": [
    "# Create label encoding"
   ]
  },
  {
   "cell_type": "code",
   "execution_count": null,
   "metadata": {},
   "outputs": [],
   "source": [
    "# number of row - integer encoding\n",
    "if not os.path.exists('modanet_labels.txt'):\n",
    "    with open('modanet_labels.txt', 'w') as f:\n",
    "        for n in names:\n",
    "            f.write(n + '\\n')"
   ]
  },
  {
   "cell_type": "markdown",
   "metadata": {},
   "source": [
    "# Load a list of available images"
   ]
  },
  {
   "cell_type": "code",
   "execution_count": null,
   "metadata": {},
   "outputs": [],
   "source": [
    "available_ids = []\n",
    "for T in pd.read_csv(DOWNLOAD_METADATA).itertuples():\n",
    "    if T.is_ok:\n",
    "        available_ids.append(T.id)"
   ]
  },
  {
   "cell_type": "markdown",
   "metadata": {},
   "source": [
    "# Show a random image"
   ]
  },
  {
   "cell_type": "code",
   "execution_count": null,
   "metadata": {},
   "outputs": [],
   "source": [
    "imgIds = coco.getImgIds()"
   ]
  },
  {
   "cell_type": "code",
   "execution_count": null,
   "metadata": {},
   "outputs": [],
   "source": [
    "i = np.random.randint(0, len(imgIds))\n",
    "metadata = coco.loadImgs(imgIds[i])[0]\n",
    "\n",
    "if metadata['id'] in available_ids:\n",
    "    \n",
    "    image_name = str(metadata['id']) + '.jpg'\n",
    "    image = cv2.imread(os.path.join(IMAGES_DIR, image_name))\n",
    "    image = image[:, :, [2, 1, 0]]  # to RGB\n",
    "\n",
    "    annIds = coco.getAnnIds(imgIds=metadata['id'])\n",
    "    annotations = coco.loadAnns(annIds)\n",
    "\n",
    "    plt.imshow(image)\n",
    "    plt.axis('off')\n",
    "    coco.showAnns(annotations)"
   ]
  },
  {
   "cell_type": "markdown",
   "metadata": {},
   "source": [
    "# Create a train-val split"
   ]
  },
  {
   "cell_type": "code",
   "execution_count": null,
   "metadata": {},
   "outputs": [],
   "source": [
    "metadata = []\n",
    "\n",
    "for i in range(len(imgIds)):\n",
    "    image_metadata = coco.loadImgs(imgIds[i])[0]\n",
    "    print(image_metadata['id'])\n",
    "    if image_metadata['id'] in available_ids:\n",
    "        is_train = np.random.rand() > 0.1\n",
    "        metadata.append((imgIds[i], is_train))\n",
    "        \n",
    "metadata = pd.DataFrame(metadata, columns=['image_id', 'is_train'])\n",
    "metadata.to_csv('trainval_split.csv', index=False)"
   ]
  },
  {
   "cell_type": "code",
   "execution_count": null,
   "metadata": {},
   "outputs": [],
   "source": [
    "len(metadata) - metadata.is_train.sum()"
   ]
  }
 ],
 "metadata": {
  "kernelspec": {
   "display_name": "Python 3",
   "language": "python",
   "name": "python3"
  },
  "language_info": {
   "codemirror_mode": {
    "name": "ipython",
    "version": 3
   },
   "file_extension": ".py",
   "mimetype": "text/x-python",
   "name": "python",
   "nbconvert_exporter": "python",
   "pygments_lexer": "ipython3",
   "version": "3.6.3"
  }
 },
 "nbformat": 4,
 "nbformat_minor": 2
}
