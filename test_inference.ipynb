{
 "cells": [
  {
   "cell_type": "code",
   "execution_count": null,
   "metadata": {},
   "outputs": [],
   "source": [
    "import tensorflow as tf\n",
    "import numpy as np\n",
    "from PIL import Image\n",
    "from architecture import eda_net"
   ]
  },
  {
   "cell_type": "markdown",
   "metadata": {},
   "source": [
    "# Build a graph"
   ]
  },
  {
   "cell_type": "code",
   "execution_count": null,
   "metadata": {
    "scrolled": false
   },
   "outputs": [],
   "source": [
    "tf.reset_default_graph()\n",
    "\n",
    "images = tf.placeholder(tf.uint8, [None, None, None, 3])\n",
    "logits = eda_net(tf.to_float(images)/255.0, False, 40, 14)\n",
    "tf.train.init_from_checkpoint('models/run00/model.ckpt-50000', {'/': '/'})\n",
    "init = tf.global_variables_initializer()"
   ]
  },
  {
   "cell_type": "markdown",
   "metadata": {},
   "source": [
    "# Predict"
   ]
  },
  {
   "cell_type": "code",
   "execution_count": null,
   "metadata": {},
   "outputs": [],
   "source": [
    "image = Image.open('/mnt/datasets/dan/moda/images/val/102870.jpg')\n",
    "image"
   ]
  },
  {
   "cell_type": "code",
   "execution_count": null,
   "metadata": {},
   "outputs": [],
   "source": [
    "with tf.Session() as sess:\n",
    "    sess.run(init)\n",
    "    L = sess.run(logits, {images: np.expand_dims(np.array(image), 0)}) \n",
    "    L = np.argmax(L[0], axis=2)"
   ]
  },
  {
   "cell_type": "markdown",
   "metadata": {},
   "source": [
    "# Show predicted masks"
   ]
  },
  {
   "cell_type": "code",
   "execution_count": null,
   "metadata": {},
   "outputs": [],
   "source": [
    "color_by_label = {j: np.random.randint(0, 255, size=3, dtype='uint8') for j in range(14)}\n",
    "\n",
    "def get_color_mask(sparse_mask):\n",
    "    masks = []\n",
    "    for j in range(14):\n",
    "        m = (sparse_mask == j).astype('uint8')\n",
    "        masks.append(np.expand_dims(m, 2) * color_by_label[j])\n",
    "        \n",
    "    return np.stack(masks).max(0)"
   ]
  },
  {
   "cell_type": "code",
   "execution_count": null,
   "metadata": {},
   "outputs": [],
   "source": [
    "image.putalpha(255)\n",
    "\n",
    "mask = get_color_mask(L)\n",
    "m = Image.fromarray(mask)\n",
    "m.putalpha(Image.fromarray(150*(mask > 0).any(2).astype('uint8')))\n",
    "image.alpha_composite(m)\n",
    "image"
   ]
  }
 ],
 "metadata": {
  "kernelspec": {
   "display_name": "Python 3",
   "language": "python",
   "name": "python3"
  },
  "language_info": {
   "codemirror_mode": {
    "name": "ipython",
    "version": 3
   },
   "file_extension": ".py",
   "mimetype": "text/x-python",
   "name": "python",
   "nbconvert_exporter": "python",
   "pygments_lexer": "ipython3",
   "version": "3.6.3"
  }
 },
 "nbformat": 4,
 "nbformat_minor": 2
}
